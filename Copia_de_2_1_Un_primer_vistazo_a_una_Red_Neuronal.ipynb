{
  "nbformat": 4,
  "nbformat_minor": 0,
  "metadata": {
    "kernelspec": {
      "display_name": "Python 3",
      "language": "python",
      "name": "python3"
    },
    "language_info": {
      "codemirror_mode": {
        "name": "ipython",
        "version": 3
      },
      "file_extension": ".py",
      "mimetype": "text/x-python",
      "name": "python",
      "nbconvert_exporter": "python",
      "pygments_lexer": "ipython3",
      "version": "3.8.5"
    },
    "colab": {
      "provenance": [],
      "toc_visible": true,
      "include_colab_link": true
    },
    "accelerator": "GPU",
    "gpuClass": "standard"
  },
  "cells": [
    {
      "cell_type": "markdown",
      "metadata": {
        "id": "view-in-github",
        "colab_type": "text"
      },
      "source": [
        "<a href=\"https://colab.research.google.com/github/DiegoFortezaBenito/deeplearning/blob/main/Copia_de_2_1_Un_primer_vistazo_a_una_Red_Neuronal.ipynb\" target=\"_parent\"><img src=\"https://colab.research.google.com/assets/colab-badge.svg\" alt=\"Open In Colab\"/></a>"
      ]
    },
    {
      "cell_type": "markdown",
      "metadata": {
        "id": "Ejg7Msp7rbkk"
      },
      "source": [
        "# Ejercicio con regularizadores"
      ]
    },
    {
      "cell_type": "code",
      "source": [
        "%tensorflow_version 2.x\n",
        "import tensorflow as tf\n",
        "from tensorflow import keras\n",
        "print(tf.keras.__version__)\n",
        "print(\"GPU Available:\", tf.config.list_physical_devices('GPU'))\n",
        "print(tf.__version__)\n",
        "from keras.datasets import mnist\n",
        "from keras import models\n",
        "from keras import layers\n",
        "import numpy as np\n",
        "import matplotlib.pyplot as plt\n",
        "from keras import regularizers"
      ],
      "metadata": {
        "id": "BSivef1i532C",
        "colab": {
          "base_uri": "https://localhost:8080/"
        },
        "outputId": "8cdd1762-bc1c-435b-86b3-282d8018b78a"
      },
      "execution_count": null,
      "outputs": [
        {
          "output_type": "stream",
          "name": "stdout",
          "text": [
            "Colab only includes TensorFlow 2.x; %tensorflow_version has no effect.\n",
            "2.9.0\n",
            "GPU Available: [PhysicalDevice(name='/physical_device:GPU:0', device_type='GPU')]\n",
            "2.9.2\n"
          ]
        }
      ]
    },
    {
      "cell_type": "code",
      "source": [
        "(train_images, train_labels), (test_images, test_labels) = mnist.load_data()"
      ],
      "metadata": {
        "id": "3t3R6gU9-wUy",
        "colab": {
          "base_uri": "https://localhost:8080/"
        },
        "outputId": "b705d596-fd79-4b54-ee9a-8fa45c43ee69"
      },
      "execution_count": null,
      "outputs": [
        {
          "output_type": "stream",
          "name": "stdout",
          "text": [
            "Downloading data from https://storage.googleapis.com/tensorflow/tf-keras-datasets/mnist.npz\n",
            "11490434/11490434 [==============================] - 1s 0us/step\n"
          ]
        }
      ]
    },
    {
      "cell_type": "code",
      "source": [
        "# Prepara con reshape y normaliza las imágenes tanto de entrenamiento como de test\n",
        "train_images = train_images.reshape((60000, 28 * 28))\n",
        "test_images = test_images.reshape((10000, 28 * 28))\n",
        "\n",
        "train_images = train_images.astype('float32') / 255\n",
        "test_images = test_images.astype('float32') / 255"
      ],
      "metadata": {
        "id": "H6n5NeSz0U1d"
      },
      "execution_count": null,
      "outputs": []
    },
    {
      "cell_type": "code",
      "source": [
        "# Crear un subconjunto de imágenes de entrenamiento que llamaré\n",
        "# validation_images, para hacer las validaciones, con las 10000 últimas imágenes \n",
        "validation_images=train_images[50000:]  \n",
        "train_images=train_images[:49999]      \n",
        "\n",
        "validation_labels=train_labels[50000:]\n",
        "train_labels=train_labels[:49999]\n",
        "\n",
        "print(validation_images.shape)\n",
        "print(validation_labels.shape)\n",
        "# del set de datos de entrenamiento (train_images) (obviamente, lo mismo con las\n",
        "# etiquetas correspondientes -> validation_labels). Deja preparadas las 50K \n",
        "# primeras imágenes y etiquetas para entrenamiento (train_images y train_labels)"
      ],
      "metadata": {
        "id": "NKoZGyap0XAj",
        "colab": {
          "base_uri": "https://localhost:8080/"
        },
        "outputId": "d3a0fac5-8853-4e38-a598-73f7f3ece955"
      },
      "execution_count": null,
      "outputs": [
        {
          "output_type": "stream",
          "name": "stdout",
          "text": [
            "(10000, 784)\n",
            "(10000,)\n"
          ]
        }
      ]
    },
    {
      "cell_type": "code",
      "source": [
        "def crea_modelo(regularizador):\n",
        "  # Define una función que recibe un número del 0 al 4 que creará:\n",
        "  # un modelo secuencial con una capa de entrada densa de 512 neuronas\n",
        "  # con activación relu y la capa de salida que le corresponda según el problema\n",
        "  # Ahora, en función del número del regularizador:\n",
        "  # Si es 0, no mete ningún regularizador\n",
        "  # Si es 1, mete un regularizador de tipo l1 y valor 0.001\n",
        "  # Si es 2, mete un regularizador de tipo l2 y valor 0.001\n",
        "  # Si es 3, mete un regularizador de tipo l1_l2 y valor 0.001 para ambos\n",
        "  # Si es 4, mete un Dropout del 50% después de la primera capa densa\n",
        "  # Si es distinto que estos valores, escribe el error y retorna\n",
        "  # Al final, esta función pinta el summary del modelo y retorna el modelo creado\n",
        "  model = models.Sequential()\n",
        "  if regularizador==0:\n",
        "      model.add(layers.Dense(512,activation='relu',input_shape=(28*28,)))\n",
        "  elif regularizador==1:\n",
        "      model.add(layers.Dense(512, kernel_regularizer=regularizers.l1(0.001),activation='relu',input_shape=(28*28,)))\n",
        "  elif regularizador==2:\n",
        "      model.add(layers.Dense(512, kernel_regularizer=regularizers.l2(0.001),activation='relu',input_shape=(28*28,)))\n",
        "  elif regularizador==3:\n",
        "      model.add(layers.Dense(512, kernel_regularizer=regularizers.l1_l2(l1=0.001,l2=0.001),activation='relu',input_shape=(28*28,)))\n",
        "  elif regularizador==4:\n",
        "      model.add(layers.Dense(512,activation='relu',input_shape=(28*28,)))\n",
        "      model.add(layers.Dropout(0.5))\n",
        "  else:\n",
        "      print(\"ERROR. El valor debe estar entre 0 y 4.\")\n",
        "  model.add(layers.Dense(10,activation='softmax'))\n",
        "  model.summary()\n",
        "  return model"
      ],
      "metadata": {
        "id": "6JnVLVfsAfkh"
      },
      "execution_count": null,
      "outputs": []
    },
    {
      "cell_type": "code",
      "source": [
        "def compila_modelo(modelo): \n",
        "  # Define una función que recibe un modelo, lo compila con un optimizador\n",
        "  # 'rmsprop', con una función de pérdida 'sparse_categorical_crossentropy' y\n",
        "  # una métrica de precisión. La función retorna el modelo\n",
        "  modelo.compile(optimizer='rmsprop',\n",
        "              loss='sparse_categorical_crossentropy',\n",
        "              metrics=['accuracy'])\n",
        "  return modelo"
      ],
      "metadata": {
        "id": "qKyJ8KOT0aFt"
      },
      "execution_count": null,
      "outputs": []
    },
    {
      "cell_type": "code",
      "source": [
        "def entrena_modelo(modelo):\n",
        "  history = modelo.fit(train_images,\n",
        "                    train_labels,\n",
        "                    epochs=30,\n",
        "                    batch_size=128,\n",
        "                    validation_data=(validation_images, validation_labels))\n",
        "  return history\n",
        "  # Define una función que entrena el modelo que se le pasa por parámetro,\n",
        "  # con las imágenes y etiquetas de entrenamiento, con 30 iteraciones y 128\n",
        "  # de tamaño de minilote y con el validation_data creado más arriba.\n",
        "  # Esta función devuelve un history"
      ],
      "metadata": {
        "id": "_yQ7SpOt0cBp"
      },
      "execution_count": null,
      "outputs": []
    },
    {
      "cell_type": "code",
      "source": [
        "def pinta_perdida_entrenamiento_validacion(historia):\n",
        "  history_dict = historia.history\n",
        "  acc = historia.history['accuracy']\n",
        "  val_acc = historia.history['val_accuracy']\n",
        "  loss = historia.history['loss']\n",
        "  val_loss = historia.history['val_loss']\n",
        "  epochs = range(1, len(acc) + 1)\n",
        "  # \"bo\" es para \"punto azun\"\n",
        "  plt.plot(epochs, loss, 'bo', label='Pérdida de Entrenamiento')\n",
        "  # \"b\" es para \"linea continua azul\"\n",
        "  plt.plot(epochs, val_loss, 'b', label='Pérdida de Validación')\n",
        "  plt.title('Pérdida de Entrenamiento y Validación')\n",
        "  plt.xlabel('Epochs')\n",
        "  plt.ylabel('Loss')\n",
        "  plt.legend()\n",
        "  plt.show()"
      ],
      "metadata": {
        "id": "bJrRNc4WwPN2"
      },
      "execution_count": null,
      "outputs": []
    },
    {
      "cell_type": "code",
      "source": [
        "def pinta_precision_entrenamiento_validacion(historia):\n",
        "  history_dict = historia.history\n",
        "  acc = historia.history['accuracy']\n",
        "  val_acc = historia.history['val_accuracy']\n",
        "  loss = historia.history['loss']\n",
        "  val_loss = historia.history['val_loss']\n",
        "  plt.clf()   # Limpia la figura\n",
        "  acc_values = history_dict['accuracy']\n",
        "  val_acc_values = history_dict['val_accuracy']\n",
        "  epochs = range(1, len(acc) + 1)\n",
        "  plt.plot(epochs, acc, 'bo', label='Precisión de Entrenamiento')\n",
        "  plt.plot(epochs, val_acc, 'b', label='Precisión de Validación')\n",
        "  plt.title('Precisión de Entrenamiento y Valización')\n",
        "  plt.xlabel('Epochs')\n",
        "  plt.ylabel('Loss')\n",
        "  plt.legend()\n",
        "  plt.show()"
      ],
      "metadata": {
        "id": "Mafxp6D3wYQx"
      },
      "execution_count": null,
      "outputs": []
    },
    {
      "cell_type": "markdown",
      "source": [
        "## Una vez definidas todas las funciones anteriores, ejecuta las siguientes llamadas a dichas funciones y deduce que está pasando y, para este contexto, que es lo que mejor está funcionando"
      ],
      "metadata": {
        "id": "6nnQYysYA3_T"
      }
    },
    {
      "cell_type": "markdown",
      "source": [
        "### Caso 0, sin regularizadores"
      ],
      "metadata": {
        "id": "OrGwDgaFBax4"
      }
    },
    {
      "cell_type": "code",
      "source": [
        "network0 = crea_modelo(0)"
      ],
      "metadata": {
        "id": "uXvhlXg79Zi9",
        "colab": {
          "base_uri": "https://localhost:8080/"
        },
        "outputId": "48853f40-4271-4c43-882b-316e168acd97"
      },
      "execution_count": null,
      "outputs": [
        {
          "output_type": "stream",
          "name": "stdout",
          "text": [
            "Model: \"sequential\"\n",
            "_________________________________________________________________\n",
            " Layer (type)                Output Shape              Param #   \n",
            "=================================================================\n",
            " dense (Dense)               (None, 512)               401920    \n",
            "                                                                 \n",
            " dense_1 (Dense)             (None, 10)                5130      \n",
            "                                                                 \n",
            "=================================================================\n",
            "Total params: 407,050\n",
            "Trainable params: 407,050\n",
            "Non-trainable params: 0\n",
            "_________________________________________________________________\n"
          ]
        }
      ]
    },
    {
      "cell_type": "code",
      "source": [
        "network0 = compila_modelo(network0)"
      ],
      "metadata": {
        "id": "Ff0HC3NR9ez8"
      },
      "execution_count": null,
      "outputs": []
    },
    {
      "cell_type": "code",
      "source": [
        "historia0 = entrena_modelo(network0)"
      ],
      "metadata": {
        "id": "x9zQDOlw9g6V",
        "colab": {
          "base_uri": "https://localhost:8080/"
        },
        "outputId": "81f65c20-a1b5-442d-fb1c-3afc4b585480"
      },
      "execution_count": null,
      "outputs": [
        {
          "output_type": "stream",
          "name": "stdout",
          "text": [
            "Epoch 1/30\n",
            "391/391 [==============================] - 8s 8ms/step - loss: 0.2784 - accuracy: 0.9199 - val_loss: 0.1518 - val_accuracy: 0.9566\n",
            "Epoch 2/30\n",
            "391/391 [==============================] - 2s 6ms/step - loss: 0.1158 - accuracy: 0.9647 - val_loss: 0.1053 - val_accuracy: 0.9693\n",
            "Epoch 3/30\n",
            "391/391 [==============================] - 2s 6ms/step - loss: 0.0754 - accuracy: 0.9777 - val_loss: 0.0869 - val_accuracy: 0.9746\n",
            "Epoch 4/30\n",
            "391/391 [==============================] - 1s 4ms/step - loss: 0.0545 - accuracy: 0.9843 - val_loss: 0.0866 - val_accuracy: 0.9748\n",
            "Epoch 5/30\n",
            "391/391 [==============================] - 1s 3ms/step - loss: 0.0398 - accuracy: 0.9876 - val_loss: 0.0784 - val_accuracy: 0.9783\n",
            "Epoch 6/30\n",
            "391/391 [==============================] - 2s 4ms/step - loss: 0.0308 - accuracy: 0.9910 - val_loss: 0.0833 - val_accuracy: 0.9767\n",
            "Epoch 7/30\n",
            "391/391 [==============================] - 2s 4ms/step - loss: 0.0233 - accuracy: 0.9932 - val_loss: 0.0835 - val_accuracy: 0.9785\n",
            "Epoch 8/30\n",
            "391/391 [==============================] - 2s 4ms/step - loss: 0.0178 - accuracy: 0.9947 - val_loss: 0.0777 - val_accuracy: 0.9799\n",
            "Epoch 9/30\n",
            "391/391 [==============================] - 1s 4ms/step - loss: 0.0131 - accuracy: 0.9963 - val_loss: 0.0781 - val_accuracy: 0.9803\n",
            "Epoch 10/30\n",
            "391/391 [==============================] - 1s 4ms/step - loss: 0.0097 - accuracy: 0.9973 - val_loss: 0.0860 - val_accuracy: 0.9789\n",
            "Epoch 11/30\n",
            "391/391 [==============================] - 1s 4ms/step - loss: 0.0075 - accuracy: 0.9978 - val_loss: 0.0929 - val_accuracy: 0.9792\n",
            "Epoch 12/30\n",
            "391/391 [==============================] - 1s 4ms/step - loss: 0.0061 - accuracy: 0.9984 - val_loss: 0.0907 - val_accuracy: 0.9801\n",
            "Epoch 13/30\n",
            "391/391 [==============================] - 1s 4ms/step - loss: 0.0048 - accuracy: 0.9985 - val_loss: 0.1063 - val_accuracy: 0.9779\n",
            "Epoch 14/30\n",
            "391/391 [==============================] - 1s 3ms/step - loss: 0.0033 - accuracy: 0.9992 - val_loss: 0.0945 - val_accuracy: 0.9795\n",
            "Epoch 15/30\n",
            "391/391 [==============================] - 1s 3ms/step - loss: 0.0021 - accuracy: 0.9995 - val_loss: 0.0991 - val_accuracy: 0.9801\n",
            "Epoch 16/30\n",
            "391/391 [==============================] - 1s 4ms/step - loss: 0.0020 - accuracy: 0.9996 - val_loss: 0.1045 - val_accuracy: 0.9810\n",
            "Epoch 17/30\n",
            "391/391 [==============================] - 1s 4ms/step - loss: 0.0017 - accuracy: 0.9996 - val_loss: 0.1049 - val_accuracy: 0.9816\n",
            "Epoch 18/30\n",
            "391/391 [==============================] - 1s 4ms/step - loss: 0.0011 - accuracy: 0.9997 - val_loss: 0.1083 - val_accuracy: 0.9791\n",
            "Epoch 19/30\n",
            "391/391 [==============================] - 1s 3ms/step - loss: 9.9606e-04 - accuracy: 0.9998 - val_loss: 0.1134 - val_accuracy: 0.9811\n",
            "Epoch 20/30\n",
            "391/391 [==============================] - 1s 3ms/step - loss: 9.2411e-04 - accuracy: 0.9998 - val_loss: 0.1226 - val_accuracy: 0.9797\n",
            "Epoch 21/30\n",
            "391/391 [==============================] - 1s 3ms/step - loss: 8.0246e-04 - accuracy: 0.9998 - val_loss: 0.1143 - val_accuracy: 0.9812\n",
            "Epoch 22/30\n",
            "391/391 [==============================] - 1s 4ms/step - loss: 5.7888e-04 - accuracy: 0.9999 - val_loss: 0.1213 - val_accuracy: 0.9812\n",
            "Epoch 23/30\n",
            "391/391 [==============================] - 1s 3ms/step - loss: 3.8590e-04 - accuracy: 0.9999 - val_loss: 0.1316 - val_accuracy: 0.9807\n",
            "Epoch 24/30\n",
            "391/391 [==============================] - 1s 3ms/step - loss: 4.0126e-04 - accuracy: 0.9999 - val_loss: 0.1344 - val_accuracy: 0.9801\n",
            "Epoch 25/30\n",
            "391/391 [==============================] - 1s 3ms/step - loss: 2.2057e-04 - accuracy: 1.0000 - val_loss: 0.1485 - val_accuracy: 0.9796\n",
            "Epoch 26/30\n",
            "391/391 [==============================] - 1s 4ms/step - loss: 2.1452e-04 - accuracy: 1.0000 - val_loss: 0.1329 - val_accuracy: 0.9812\n",
            "Epoch 27/30\n",
            "391/391 [==============================] - 2s 4ms/step - loss: 1.4870e-04 - accuracy: 1.0000 - val_loss: 0.1449 - val_accuracy: 0.9809\n",
            "Epoch 28/30\n",
            "391/391 [==============================] - 1s 4ms/step - loss: 1.8209e-04 - accuracy: 0.9999 - val_loss: 0.1476 - val_accuracy: 0.9823\n",
            "Epoch 29/30\n",
            "391/391 [==============================] - 1s 3ms/step - loss: 1.3954e-04 - accuracy: 1.0000 - val_loss: 0.1512 - val_accuracy: 0.9806\n",
            "Epoch 30/30\n",
            "391/391 [==============================] - 1s 4ms/step - loss: 7.8468e-05 - accuracy: 1.0000 - val_loss: 0.1430 - val_accuracy: 0.9820\n"
          ]
        }
      ]
    },
    {
      "cell_type": "code",
      "source": [
        "pinta_perdida_entrenamiento_validacion(historia0)"
      ],
      "metadata": {
        "id": "OvhDZvS8-0mG",
        "colab": {
          "base_uri": "https://localhost:8080/",
          "height": 295
        },
        "outputId": "2266eadf-5efa-416e-f9f5-bb6d75bc8e69"
      },
      "execution_count": null,
      "outputs": [
        {
          "output_type": "display_data",
          "data": {
            "text/plain": [
              "<Figure size 432x288 with 1 Axes>"
            ],
            "image/png": "[encoded data removed]"
          },
          "metadata": {
            "needs_background": "light"
          }
        }
      ]
    },
    {
      "cell_type": "code",
      "source": [
        "pinta_precision_entrenamiento_validacion(historia0)"
      ],
      "metadata": {
        "id": "UuiL2CCH_fGN",
        "colab": {
          "base_uri": "https://localhost:8080/",
          "height": 295
        },
        "outputId": "7a785174-56a4-4c68-f47a-89c22516030b"
      },
      "execution_count": null,
      "outputs": [
        {
          "output_type": "display_data",
          "data": {
            "text/plain": [
              "<Figure size 432x288 with 1 Axes>"
            ],
            "image/png": "[encoded data removed]"
          },
          "metadata": {
            "needs_background": "light"
          }
        }
      ]
    },
    {
      "cell_type": "markdown",
      "source": [
        "### Caso 1: Con regularizador l1"
      ],
      "metadata": {
        "id": "pw6iBGO5Bg8J"
      }
    },
    {
      "cell_type": "code",
      "source": [
        "network1 = crea_modelo(1)"
      ],
      "metadata": {
        "id": "D6JPtw5zCz-1",
        "colab": {
          "base_uri": "https://localhost:8080/"
        },
        "outputId": "f85e8e3e-ee5a-48cd-c571-118c58b61c5e"
      },
      "execution_count": null,
      "outputs": [
        {
          "output_type": "stream",
          "name": "stdout",
          "text": [
            "Model: \"sequential_1\"\n",
            "_________________________________________________________________\n",
            " Layer (type)                Output Shape              Param #   \n",
            "=================================================================\n",
            " dense_2 (Dense)             (None, 512)               401920    \n",
            "                                                                 \n",
            " dense_3 (Dense)             (None, 10)                5130      \n",
            "                                                                 \n",
            "=================================================================\n",
            "Total params: 407,050\n",
            "Trainable params: 407,050\n",
            "Non-trainable params: 0\n",
            "_________________________________________________________________\n"
          ]
        }
      ]
    },
    {
      "cell_type": "code",
      "source": [
        "network1 = compila_modelo(network1)"
      ],
      "metadata": {
        "id": "zL3Gp7wvFRq3"
      },
      "execution_count": null,
      "outputs": []
    },
    {
      "cell_type": "code",
      "source": [
        "historia1 = entrena_modelo(network1)"
      ],
      "metadata": {
        "id": "G2FG1Z4xFW72",
        "colab": {
          "base_uri": "https://localhost:8080/"
        },
        "outputId": "4d08a3a1-4d54-4b4e-cc84-50b2fb233caf"
      },
      "execution_count": null,
      "outputs": [
        {
          "output_type": "stream",
          "name": "stdout",
          "text": [
            "Epoch 1/30\n",
            "391/391 [==============================] - 2s 4ms/step - loss: 2.1591 - accuracy: 0.8447 - val_loss: 1.0762 - val_accuracy: 0.8456\n",
            "Epoch 2/30\n",
            "391/391 [==============================] - 2s 5ms/step - loss: 0.9572 - accuracy: 0.8821 - val_loss: 0.8206 - val_accuracy: 0.9178\n",
            "Epoch 3/30\n",
            "391/391 [==============================] - 2s 4ms/step - loss: 0.8351 - accuracy: 0.9024 - val_loss: 0.7404 - val_accuracy: 0.9279\n",
            "Epoch 4/30\n",
            "391/391 [==============================] - 1s 4ms/step - loss: 0.7595 - accuracy: 0.9151 - val_loss: 0.7005 - val_accuracy: 0.9323\n",
            "Epoch 5/30\n",
            "391/391 [==============================] - 1s 3ms/step - loss: 0.7094 - accuracy: 0.9237 - val_loss: 0.6735 - val_accuracy: 0.9395\n",
            "Epoch 6/30\n",
            "391/391 [==============================] - 1s 3ms/step - loss: 0.6722 - accuracy: 0.9300 - val_loss: 0.6630 - val_accuracy: 0.9261\n",
            "Epoch 7/30\n",
            "391/391 [==============================] - 2s 4ms/step - loss: 0.6447 - accuracy: 0.9347 - val_loss: 0.6085 - val_accuracy: 0.9447\n",
            "Epoch 8/30\n",
            "391/391 [==============================] - 2s 4ms/step - loss: 0.6221 - accuracy: 0.9388 - val_loss: 0.6050 - val_accuracy: 0.9427\n",
            "Epoch 9/30\n",
            "391/391 [==============================] - 2s 4ms/step - loss: 0.6030 - accuracy: 0.9418 - val_loss: 0.5944 - val_accuracy: 0.9453\n",
            "Epoch 10/30\n",
            "391/391 [==============================] - 2s 4ms/step - loss: 0.5873 - accuracy: 0.9438 - val_loss: 0.5620 - val_accuracy: 0.9527\n",
            "Epoch 11/30\n",
            "391/391 [==============================] - 1s 4ms/step - loss: 0.5749 - accuracy: 0.9470 - val_loss: 0.5923 - val_accuracy: 0.9392\n",
            "Epoch 12/30\n",
            "391/391 [==============================] - 1s 3ms/step - loss: 0.5640 - accuracy: 0.9483 - val_loss: 0.5706 - val_accuracy: 0.9474\n",
            "Epoch 13/30\n",
            "391/391 [==============================] - 2s 4ms/step - loss: 0.5529 - accuracy: 0.9495 - val_loss: 0.5566 - val_accuracy: 0.9486\n",
            "Epoch 14/30\n",
            "391/391 [==============================] - 1s 4ms/step - loss: 0.5465 - accuracy: 0.9501 - val_loss: 0.5289 - val_accuracy: 0.9569\n",
            "Epoch 15/30\n",
            "391/391 [==============================] - 1s 4ms/step - loss: 0.5394 - accuracy: 0.9512 - val_loss: 0.5147 - val_accuracy: 0.9593\n",
            "Epoch 16/30\n",
            "391/391 [==============================] - 2s 4ms/step - loss: 0.5321 - accuracy: 0.9520 - val_loss: 0.5224 - val_accuracy: 0.9567\n",
            "Epoch 17/30\n",
            "391/391 [==============================] - 1s 4ms/step - loss: 0.5263 - accuracy: 0.9536 - val_loss: 0.5493 - val_accuracy: 0.9504\n",
            "Epoch 18/30\n",
            "391/391 [==============================] - 1s 3ms/step - loss: 0.5231 - accuracy: 0.9528 - val_loss: 0.5061 - val_accuracy: 0.9600\n",
            "Epoch 19/30\n",
            "391/391 [==============================] - 1s 3ms/step - loss: 0.5160 - accuracy: 0.9549 - val_loss: 0.5095 - val_accuracy: 0.9555\n",
            "Epoch 20/30\n",
            "391/391 [==============================] - 2s 4ms/step - loss: 0.5129 - accuracy: 0.9547 - val_loss: 0.5271 - val_accuracy: 0.9528\n",
            "Epoch 21/30\n",
            "391/391 [==============================] - 2s 4ms/step - loss: 0.5078 - accuracy: 0.9557 - val_loss: 0.5080 - val_accuracy: 0.9595\n",
            "Epoch 22/30\n",
            "391/391 [==============================] - 1s 4ms/step - loss: 0.5053 - accuracy: 0.9563 - val_loss: 0.4982 - val_accuracy: 0.9577\n",
            "Epoch 23/30\n",
            "391/391 [==============================] - 1s 4ms/step - loss: 0.5000 - accuracy: 0.9569 - val_loss: 0.4862 - val_accuracy: 0.9632\n",
            "Epoch 24/30\n",
            "391/391 [==============================] - 1s 4ms/step - loss: 0.4988 - accuracy: 0.9566 - val_loss: 0.4785 - val_accuracy: 0.9639\n",
            "Epoch 25/30\n",
            "391/391 [==============================] - 1s 4ms/step - loss: 0.4949 - accuracy: 0.9577 - val_loss: 0.5072 - val_accuracy: 0.9561\n",
            "Epoch 26/30\n",
            "391/391 [==============================] - 2s 4ms/step - loss: 0.4925 - accuracy: 0.9574 - val_loss: 0.4720 - val_accuracy: 0.9636\n",
            "Epoch 27/30\n",
            "391/391 [==============================] - 2s 5ms/step - loss: 0.4907 - accuracy: 0.9570 - val_loss: 0.5754 - val_accuracy: 0.9304\n",
            "Epoch 28/30\n",
            "391/391 [==============================] - 1s 4ms/step - loss: 0.4875 - accuracy: 0.9588 - val_loss: 0.4738 - val_accuracy: 0.9631\n",
            "Epoch 29/30\n",
            "391/391 [==============================] - 1s 4ms/step - loss: 0.4857 - accuracy: 0.9589 - val_loss: 0.4709 - val_accuracy: 0.9629\n",
            "Epoch 30/30\n",
            "391/391 [==============================] - 1s 4ms/step - loss: 0.4834 - accuracy: 0.9590 - val_loss: 0.4754 - val_accuracy: 0.9628\n"
          ]
        }
      ]
    },
    {
      "cell_type": "code",
      "source": [
        "pinta_perdida_entrenamiento_validacion(historia1)"
      ],
      "metadata": {
        "id": "Vyv3yFtiFitw",
        "colab": {
          "base_uri": "https://localhost:8080/",
          "height": 295
        },
        "outputId": "70dfa4a8-ba72-4052-ae93-61b00c0b4c48"
      },
      "execution_count": null,
      "outputs": [
        {
          "output_type": "display_data",
          "data": {
            "text/plain": [
              "<Figure size 432x288 with 1 Axes>"
            ],
            "image/png": "[encoded data removed]"
          },
          "metadata": {
            "needs_background": "light"
          }
        }
      ]
    },
    {
      "cell_type": "code",
      "source": [
        "pinta_precision_entrenamiento_validacion(historia1)"
      ],
      "metadata": {
        "id": "pVUerJsqFo7K",
        "colab": {
          "base_uri": "https://localhost:8080/",
          "height": 295
        },
        "outputId": "6fe29e71-d108-4e63-fb3b-7e2972e473e4"
      },
      "execution_count": null,
      "outputs": [
        {
          "output_type": "display_data",
          "data": {
            "text/plain": [
              "<Figure size 432x288 with 1 Axes>"
            ],
            "image/png": "[encoded data removed]"
          },
          "metadata": {
            "needs_background": "light"
          }
        }
      ]
    },
    {
      "cell_type": "markdown",
      "source": [
        "### Caso 2: Con regularizador l2"
      ],
      "metadata": {
        "id": "hklwKNlMBzya"
      }
    },
    {
      "cell_type": "code",
      "source": [
        "network2 = crea_modelo(2)"
      ],
      "metadata": {
        "id": "tjIs0FziG5Ja",
        "colab": {
          "base_uri": "https://localhost:8080/",
          "height": 166
        },
        "outputId": "54199407-7cbb-4c3a-acff-abd45b46294e"
      },
      "execution_count": 1,
      "outputs": [
        {
          "output_type": "error",
          "ename": "NameError",
          "evalue": "ignored",
          "traceback": [
            "\u001b[0;31m---------------------------------------------------------------------------\u001b[0m",
            "\u001b[0;31mNameError\u001b[0m                                 Traceback (most recent call last)",
            "\u001b[0;32m<ipython-input-1-d6d28e62b754>\u001b[0m in \u001b[0;36m<module>\u001b[0;34m\u001b[0m\n\u001b[0;32m----> 1\u001b[0;31m \u001b[0mnetwork2\u001b[0m \u001b[0;34m=\u001b[0m \u001b[0mcrea_modelo\u001b[0m\u001b[0;34m(\u001b[0m\u001b[0;36m2\u001b[0m\u001b[0;34m)\u001b[0m\u001b[0;34m\u001b[0m\u001b[0;34m\u001b[0m\u001b[0m\n\u001b[0m",
            "\u001b[0;31mNameError\u001b[0m: name 'crea_modelo' is not defined"
          ]
        }
      ]
    },
    {
      "cell_type": "code",
      "source": [
        "network2 = compila_modelo(network2)"
      ],
      "metadata": {
        "id": "UCdA0K_qyTUq"
      },
      "execution_count": null,
      "outputs": []
    },
    {
      "cell_type": "code",
      "source": [
        "historia2 = entrena_modelo(network2)"
      ],
      "metadata": {
        "id": "WSuomx5oybpu",
        "colab": {
          "base_uri": "https://localhost:8080/"
        },
        "outputId": "c429b7ab-d372-460e-9410-cb1fa922bd89"
      },
      "execution_count": null,
      "outputs": [
        {
          "output_type": "stream",
          "name": "stdout",
          "text": [
            "Epoch 1/30\n",
            "391/391 [==============================] - 2s 4ms/step - loss: 0.5227 - accuracy: 0.9134 - val_loss: 0.2981 - val_accuracy: 0.9540\n",
            "Epoch 2/30\n",
            "391/391 [==============================] - 1s 4ms/step - loss: 0.2648 - accuracy: 0.9539 - val_loss: 0.2360 - val_accuracy: 0.9604\n",
            "Epoch 3/30\n",
            "391/391 [==============================] - 2s 4ms/step - loss: 0.2100 - accuracy: 0.9627 - val_loss: 0.2013 - val_accuracy: 0.9647\n",
            "Epoch 4/30\n",
            "391/391 [==============================] - 2s 5ms/step - loss: 0.1874 - accuracy: 0.9669 - val_loss: 0.1755 - val_accuracy: 0.9709\n",
            "Epoch 5/30\n",
            "391/391 [==============================] - 1s 4ms/step - loss: 0.1729 - accuracy: 0.9696 - val_loss: 0.1824 - val_accuracy: 0.9658\n",
            "Epoch 6/30\n",
            "391/391 [==============================] - 2s 4ms/step - loss: 0.1643 - accuracy: 0.9721 - val_loss: 0.2024 - val_accuracy: 0.9587\n",
            "Epoch 7/30\n",
            "391/391 [==============================] - 2s 4ms/step - loss: 0.1565 - accuracy: 0.9728 - val_loss: 0.1835 - val_accuracy: 0.9663\n",
            "Epoch 8/30\n",
            "391/391 [==============================] - 2s 4ms/step - loss: 0.1506 - accuracy: 0.9733 - val_loss: 0.1535 - val_accuracy: 0.9721\n",
            "Epoch 9/30\n",
            "391/391 [==============================] - 2s 4ms/step - loss: 0.1463 - accuracy: 0.9754 - val_loss: 0.1695 - val_accuracy: 0.9669\n",
            "Epoch 10/30\n",
            "391/391 [==============================] - 1s 4ms/step - loss: 0.1432 - accuracy: 0.9758 - val_loss: 0.1579 - val_accuracy: 0.9708\n",
            "Epoch 11/30\n",
            "391/391 [==============================] - 2s 4ms/step - loss: 0.1404 - accuracy: 0.9759 - val_loss: 0.1569 - val_accuracy: 0.9717\n",
            "Epoch 12/30\n",
            "391/391 [==============================] - 2s 4ms/step - loss: 0.1370 - accuracy: 0.9764 - val_loss: 0.1760 - val_accuracy: 0.9665\n",
            "Epoch 13/30\n",
            "391/391 [==============================] - 2s 4ms/step - loss: 0.1329 - accuracy: 0.9774 - val_loss: 0.1540 - val_accuracy: 0.9720\n",
            "Epoch 14/30\n",
            "391/391 [==============================] - 1s 4ms/step - loss: 0.1319 - accuracy: 0.9773 - val_loss: 0.1369 - val_accuracy: 0.9751\n",
            "Epoch 15/30\n",
            "391/391 [==============================] - 1s 4ms/step - loss: 0.1280 - accuracy: 0.9779 - val_loss: 0.1596 - val_accuracy: 0.9704\n",
            "Epoch 16/30\n",
            "391/391 [==============================] - 1s 3ms/step - loss: 0.1268 - accuracy: 0.9793 - val_loss: 0.1536 - val_accuracy: 0.9685\n",
            "Epoch 17/30\n",
            "391/391 [==============================] - 2s 4ms/step - loss: 0.1259 - accuracy: 0.9789 - val_loss: 0.1732 - val_accuracy: 0.9645\n",
            "Epoch 18/30\n",
            "391/391 [==============================] - 1s 3ms/step - loss: 0.1229 - accuracy: 0.9799 - val_loss: 0.1408 - val_accuracy: 0.9740\n",
            "Epoch 19/30\n",
            "391/391 [==============================] - 2s 4ms/step - loss: 0.1226 - accuracy: 0.9792 - val_loss: 0.1485 - val_accuracy: 0.9746\n",
            "Epoch 20/30\n",
            "391/391 [==============================] - 1s 3ms/step - loss: 0.1202 - accuracy: 0.9799 - val_loss: 0.1477 - val_accuracy: 0.9720\n",
            "Epoch 21/30\n",
            "391/391 [==============================] - 1s 4ms/step - loss: 0.1184 - accuracy: 0.9808 - val_loss: 0.1377 - val_accuracy: 0.9759\n",
            "Epoch 22/30\n",
            "391/391 [==============================] - 1s 3ms/step - loss: 0.1173 - accuracy: 0.9805 - val_loss: 0.1538 - val_accuracy: 0.9720\n",
            "Epoch 23/30\n",
            "391/391 [==============================] - 2s 4ms/step - loss: 0.1171 - accuracy: 0.9802 - val_loss: 0.1348 - val_accuracy: 0.9779\n",
            "Epoch 24/30\n",
            "391/391 [==============================] - 1s 4ms/step - loss: 0.1158 - accuracy: 0.9804 - val_loss: 0.1453 - val_accuracy: 0.9747\n",
            "Epoch 25/30\n",
            "391/391 [==============================] - 1s 3ms/step - loss: 0.1156 - accuracy: 0.9811 - val_loss: 0.1646 - val_accuracy: 0.9663\n",
            "Epoch 26/30\n",
            "391/391 [==============================] - 1s 3ms/step - loss: 0.1112 - accuracy: 0.9811 - val_loss: 0.1315 - val_accuracy: 0.9767\n",
            "Epoch 27/30\n",
            "391/391 [==============================] - 1s 4ms/step - loss: 0.1124 - accuracy: 0.9812 - val_loss: 0.1482 - val_accuracy: 0.9715\n",
            "Epoch 28/30\n",
            "391/391 [==============================] - 1s 3ms/step - loss: 0.1108 - accuracy: 0.9823 - val_loss: 0.1399 - val_accuracy: 0.9749\n",
            "Epoch 29/30\n",
            "391/391 [==============================] - 1s 4ms/step - loss: 0.1104 - accuracy: 0.9822 - val_loss: 0.1295 - val_accuracy: 0.9768\n",
            "Epoch 30/30\n",
            "391/391 [==============================] - 1s 3ms/step - loss: 0.1088 - accuracy: 0.9821 - val_loss: 0.1409 - val_accuracy: 0.9742\n"
          ]
        }
      ]
    },
    {
      "cell_type": "code",
      "source": [
        "pinta_perdida_entrenamiento_validacion(historia2)"
      ],
      "metadata": {
        "id": "aXXzm8tpyj6X",
        "colab": {
          "base_uri": "https://localhost:8080/",
          "height": 295
        },
        "outputId": "c03c5dbf-9cf2-4080-ff6e-9140434539e1"
      },
      "execution_count": null,
      "outputs": [
        {
          "output_type": "display_data",
          "data": {
            "text/plain": [
              "<Figure size 432x288 with 1 Axes>"
            ],
            "image/png": "[encoded data removed]"
          },
          "metadata": {
            "needs_background": "light"
          }
        }
      ]
    },
    {
      "cell_type": "code",
      "source": [
        "pinta_precision_entrenamiento_validacion(historia2)"
      ],
      "metadata": {
        "id": "CLTsg5LTypH9",
        "colab": {
          "base_uri": "https://localhost:8080/",
          "height": 295
        },
        "outputId": "7668f889-b3e1-483a-b218-5e468fb1c52d"
      },
      "execution_count": null,
      "outputs": [
        {
          "output_type": "display_data",
          "data": {
            "text/plain": [
              "<Figure size 432x288 with 1 Axes>"
            ],
            "image/png": "[encoded data removed]"
          },
          "metadata": {
            "needs_background": "light"
          }
        }
      ]
    },
    {
      "cell_type": "markdown",
      "source": [
        "### Caso 3: Con regularizador l1_l2"
      ],
      "metadata": {
        "id": "692oWz8oB82n"
      }
    },
    {
      "cell_type": "code",
      "source": [
        "network3 = crea_modelo(3)"
      ],
      "metadata": {
        "id": "5fdxkjoKzFcu",
        "colab": {
          "base_uri": "https://localhost:8080/"
        },
        "outputId": "bdea2686-9e6c-4225-85e1-43710660f855"
      },
      "execution_count": null,
      "outputs": [
        {
          "output_type": "stream",
          "name": "stdout",
          "text": [
            "Model: \"sequential_3\"\n",
            "_________________________________________________________________\n",
            " Layer (type)                Output Shape              Param #   \n",
            "=================================================================\n",
            " dense_6 (Dense)             (None, 512)               401920    \n",
            "                                                                 \n",
            " dense_7 (Dense)             (None, 10)                5130      \n",
            "                                                                 \n",
            "=================================================================\n",
            "Total params: 407,050\n",
            "Trainable params: 407,050\n",
            "Non-trainable params: 0\n",
            "_________________________________________________________________\n"
          ]
        }
      ]
    },
    {
      "cell_type": "code",
      "source": [
        "network3 = compila_modelo(network3)"
      ],
      "metadata": {
        "id": "VJzs9A2yzPhx"
      },
      "execution_count": null,
      "outputs": []
    },
    {
      "cell_type": "code",
      "source": [
        "historia3 = entrena_modelo(network3)"
      ],
      "metadata": {
        "id": "1JCUbcCQzY6E",
        "colab": {
          "base_uri": "https://localhost:8080/"
        },
        "outputId": "849b1180-8111-4c6e-d689-a102819db2e2"
      },
      "execution_count": null,
      "outputs": [
        {
          "output_type": "stream",
          "name": "stdout",
          "text": [
            "Epoch 1/30\n",
            "391/391 [==============================] - 2s 5ms/step - loss: 2.1561 - accuracy: 0.8427 - val_loss: 1.0180 - val_accuracy: 0.8892\n",
            "Epoch 2/30\n",
            "391/391 [==============================] - 2s 4ms/step - loss: 0.9793 - accuracy: 0.8771 - val_loss: 1.0059 - val_accuracy: 0.8487\n",
            "Epoch 3/30\n",
            "391/391 [==============================] - 1s 4ms/step - loss: 0.8574 - accuracy: 0.8994 - val_loss: 0.8053 - val_accuracy: 0.8989\n",
            "Epoch 4/30\n",
            "391/391 [==============================] - 1s 4ms/step - loss: 0.7823 - accuracy: 0.9128 - val_loss: 0.7496 - val_accuracy: 0.9247\n",
            "Epoch 5/30\n",
            "391/391 [==============================] - 2s 4ms/step - loss: 0.7313 - accuracy: 0.9202 - val_loss: 0.7230 - val_accuracy: 0.9228\n",
            "Epoch 6/30\n",
            "391/391 [==============================] - 1s 4ms/step - loss: 0.6938 - accuracy: 0.9272 - val_loss: 0.6765 - val_accuracy: 0.9278\n",
            "Epoch 7/30\n",
            "391/391 [==============================] - 2s 4ms/step - loss: 0.6638 - accuracy: 0.9327 - val_loss: 0.6263 - val_accuracy: 0.9443\n",
            "Epoch 8/30\n",
            "391/391 [==============================] - 2s 4ms/step - loss: 0.6424 - accuracy: 0.9352 - val_loss: 0.6311 - val_accuracy: 0.9418\n",
            "Epoch 9/30\n",
            "391/391 [==============================] - 2s 4ms/step - loss: 0.6250 - accuracy: 0.9390 - val_loss: 0.6173 - val_accuracy: 0.9448\n",
            "Epoch 10/30\n",
            "391/391 [==============================] - 2s 4ms/step - loss: 0.6105 - accuracy: 0.9417 - val_loss: 0.5825 - val_accuracy: 0.9498\n",
            "Epoch 11/30\n",
            "391/391 [==============================] - 2s 4ms/step - loss: 0.5995 - accuracy: 0.9434 - val_loss: 0.5767 - val_accuracy: 0.9516\n",
            "Epoch 12/30\n",
            "391/391 [==============================] - 2s 4ms/step - loss: 0.5870 - accuracy: 0.9450 - val_loss: 0.5576 - val_accuracy: 0.9561\n",
            "Epoch 13/30\n",
            "391/391 [==============================] - 2s 4ms/step - loss: 0.5775 - accuracy: 0.9478 - val_loss: 0.5952 - val_accuracy: 0.9424\n",
            "Epoch 14/30\n",
            "391/391 [==============================] - 1s 4ms/step - loss: 0.5692 - accuracy: 0.9476 - val_loss: 0.5705 - val_accuracy: 0.9483\n",
            "Epoch 15/30\n",
            "391/391 [==============================] - 2s 4ms/step - loss: 0.5611 - accuracy: 0.9480 - val_loss: 0.5521 - val_accuracy: 0.9539\n",
            "Epoch 16/30\n",
            "391/391 [==============================] - 1s 4ms/step - loss: 0.5550 - accuracy: 0.9500 - val_loss: 0.5352 - val_accuracy: 0.9580\n",
            "Epoch 17/30\n",
            "391/391 [==============================] - 1s 4ms/step - loss: 0.5500 - accuracy: 0.9504 - val_loss: 0.5410 - val_accuracy: 0.9516\n",
            "Epoch 18/30\n",
            "391/391 [==============================] - 2s 4ms/step - loss: 0.5431 - accuracy: 0.9515 - val_loss: 0.5207 - val_accuracy: 0.9602\n",
            "Epoch 19/30\n",
            "391/391 [==============================] - 1s 4ms/step - loss: 0.5402 - accuracy: 0.9513 - val_loss: 0.5495 - val_accuracy: 0.9502\n",
            "Epoch 20/30\n",
            "391/391 [==============================] - 2s 4ms/step - loss: 0.5342 - accuracy: 0.9523 - val_loss: 0.5286 - val_accuracy: 0.9551\n",
            "Epoch 21/30\n",
            "391/391 [==============================] - 2s 4ms/step - loss: 0.5283 - accuracy: 0.9541 - val_loss: 0.4998 - val_accuracy: 0.9598\n",
            "Epoch 22/30\n",
            "391/391 [==============================] - 1s 4ms/step - loss: 0.5243 - accuracy: 0.9540 - val_loss: 0.5233 - val_accuracy: 0.9554\n",
            "Epoch 23/30\n",
            "391/391 [==============================] - 2s 4ms/step - loss: 0.5203 - accuracy: 0.9552 - val_loss: 0.5029 - val_accuracy: 0.9632\n",
            "Epoch 24/30\n",
            "391/391 [==============================] - 2s 4ms/step - loss: 0.5180 - accuracy: 0.9544 - val_loss: 0.5163 - val_accuracy: 0.9577\n",
            "Epoch 25/30\n",
            "391/391 [==============================] - 1s 4ms/step - loss: 0.5138 - accuracy: 0.9553 - val_loss: 0.5021 - val_accuracy: 0.9603\n",
            "Epoch 26/30\n",
            "391/391 [==============================] - 2s 4ms/step - loss: 0.5115 - accuracy: 0.9548 - val_loss: 0.4943 - val_accuracy: 0.9602\n",
            "Epoch 27/30\n",
            "391/391 [==============================] - 1s 4ms/step - loss: 0.5084 - accuracy: 0.9568 - val_loss: 0.5559 - val_accuracy: 0.9440\n",
            "Epoch 28/30\n",
            "391/391 [==============================] - 1s 4ms/step - loss: 0.5051 - accuracy: 0.9569 - val_loss: 0.5194 - val_accuracy: 0.9556\n",
            "Epoch 29/30\n",
            "391/391 [==============================] - 2s 4ms/step - loss: 0.5053 - accuracy: 0.9554 - val_loss: 0.5091 - val_accuracy: 0.9567\n",
            "Epoch 30/30\n",
            "391/391 [==============================] - 2s 4ms/step - loss: 0.5019 - accuracy: 0.9573 - val_loss: 0.4976 - val_accuracy: 0.9582\n"
          ]
        }
      ]
    },
    {
      "cell_type": "code",
      "source": [
        "pinta_perdida_entrenamiento_validacion(historia3)"
      ],
      "metadata": {
        "id": "I8XzPVtyze8y",
        "colab": {
          "base_uri": "https://localhost:8080/",
          "height": 295
        },
        "outputId": "d2d00653-2106-484d-d6cf-841305f80690"
      },
      "execution_count": null,
      "outputs": [
        {
          "output_type": "display_data",
          "data": {
            "text/plain": [
              "<Figure size 432x288 with 1 Axes>"
            ],
            "image/png": "[encoded data removed]"
          },
          "metadata": {
            "needs_background": "light"
          }
        }
      ]
    },
    {
      "cell_type": "code",
      "source": [
        "pinta_precision_entrenamiento_validacion(historia3)"
      ],
      "metadata": {
        "id": "nKk7AmM8zi3A",
        "colab": {
          "base_uri": "https://localhost:8080/",
          "height": 295
        },
        "outputId": "f63aeab9-66cb-4188-9790-0173057bdabb"
      },
      "execution_count": null,
      "outputs": [
        {
          "output_type": "display_data",
          "data": {
            "text/plain": [
              "<Figure size 432x288 with 1 Axes>"
            ],
            "image/png": "[encoded data removed]"
          },
          "metadata": {
            "needs_background": "light"
          }
        }
      ]
    },
    {
      "cell_type": "markdown",
      "source": [
        "### Caso 4: Con Droput"
      ],
      "metadata": {
        "id": "OPVcbgcXCFRL"
      }
    },
    {
      "cell_type": "code",
      "source": [
        "network4 = crea_modelo(4)"
      ],
      "metadata": {
        "id": "5MVbUNX11Pgr",
        "colab": {
          "base_uri": "https://localhost:8080/"
        },
        "outputId": "6947f839-c0ff-4268-9264-0eefdf1588cc"
      },
      "execution_count": null,
      "outputs": [
        {
          "output_type": "stream",
          "name": "stdout",
          "text": [
            "Model: \"sequential_7\"\n",
            "_________________________________________________________________\n",
            " Layer (type)                Output Shape              Param #   \n",
            "=================================================================\n",
            " dense_11 (Dense)            (None, 512)               401920    \n",
            "                                                                 \n",
            " dropout (Dropout)           (None, 512)               0         \n",
            "                                                                 \n",
            " dense_12 (Dense)            (None, 10)                5130      \n",
            "                                                                 \n",
            "=================================================================\n",
            "Total params: 407,050\n",
            "Trainable params: 407,050\n",
            "Non-trainable params: 0\n",
            "_________________________________________________________________\n"
          ]
        }
      ]
    },
    {
      "cell_type": "code",
      "source": [
        "network4 = compila_modelo(network4)"
      ],
      "metadata": {
        "id": "pT-13IKI1UpW"
      },
      "execution_count": null,
      "outputs": []
    },
    {
      "cell_type": "code",
      "source": [
        "historia4 = entrena_modelo(network4)"
      ],
      "metadata": {
        "id": "kNWidx1S1aCH",
        "colab": {
          "base_uri": "https://localhost:8080/"
        },
        "outputId": "5be6d26e-4017-4123-b59f-24cfe262f03a"
      },
      "execution_count": null,
      "outputs": [
        {
          "output_type": "stream",
          "name": "stdout",
          "text": [
            "Epoch 1/30\n",
            "391/391 [==============================] - 2s 4ms/step - loss: 0.3408 - accuracy: 0.8992 - val_loss: 0.1562 - val_accuracy: 0.9562\n",
            "Epoch 2/30\n",
            "391/391 [==============================] - 2s 4ms/step - loss: 0.1656 - accuracy: 0.9505 - val_loss: 0.1169 - val_accuracy: 0.9664\n",
            "Epoch 3/30\n",
            "391/391 [==============================] - 1s 4ms/step - loss: 0.1255 - accuracy: 0.9623 - val_loss: 0.0943 - val_accuracy: 0.9725\n",
            "Epoch 4/30\n",
            "391/391 [==============================] - 2s 4ms/step - loss: 0.1044 - accuracy: 0.9696 - val_loss: 0.0885 - val_accuracy: 0.9735\n",
            "Epoch 5/30\n",
            "391/391 [==============================] - 1s 4ms/step - loss: 0.0905 - accuracy: 0.9736 - val_loss: 0.0833 - val_accuracy: 0.9766\n",
            "Epoch 6/30\n",
            "391/391 [==============================] - 1s 4ms/step - loss: 0.0821 - accuracy: 0.9763 - val_loss: 0.0837 - val_accuracy: 0.9763\n",
            "Epoch 7/30\n",
            "391/391 [==============================] - 2s 5ms/step - loss: 0.0769 - accuracy: 0.9778 - val_loss: 0.0793 - val_accuracy: 0.9759\n",
            "Epoch 8/30\n",
            "391/391 [==============================] - 2s 5ms/step - loss: 0.0672 - accuracy: 0.9798 - val_loss: 0.0777 - val_accuracy: 0.9784\n",
            "Epoch 9/30\n",
            "391/391 [==============================] - 2s 4ms/step - loss: 0.0608 - accuracy: 0.9815 - val_loss: 0.0770 - val_accuracy: 0.9794\n",
            "Epoch 10/30\n",
            "391/391 [==============================] - 2s 4ms/step - loss: 0.0601 - accuracy: 0.9816 - val_loss: 0.0792 - val_accuracy: 0.9806\n",
            "Epoch 11/30\n",
            "391/391 [==============================] - 2s 4ms/step - loss: 0.0544 - accuracy: 0.9837 - val_loss: 0.0779 - val_accuracy: 0.9797\n",
            "Epoch 12/30\n",
            "391/391 [==============================] - 1s 4ms/step - loss: 0.0506 - accuracy: 0.9849 - val_loss: 0.0772 - val_accuracy: 0.9805\n",
            "Epoch 13/30\n",
            "391/391 [==============================] - 1s 4ms/step - loss: 0.0493 - accuracy: 0.9850 - val_loss: 0.0805 - val_accuracy: 0.9809\n",
            "Epoch 14/30\n",
            "391/391 [==============================] - 2s 4ms/step - loss: 0.0469 - accuracy: 0.9855 - val_loss: 0.0794 - val_accuracy: 0.9815\n",
            "Epoch 15/30\n",
            "391/391 [==============================] - 1s 4ms/step - loss: 0.0450 - accuracy: 0.9869 - val_loss: 0.0796 - val_accuracy: 0.9816\n",
            "Epoch 16/30\n",
            "391/391 [==============================] - 1s 4ms/step - loss: 0.0432 - accuracy: 0.9875 - val_loss: 0.0815 - val_accuracy: 0.9808\n",
            "Epoch 17/30\n",
            "391/391 [==============================] - 2s 4ms/step - loss: 0.0418 - accuracy: 0.9877 - val_loss: 0.0827 - val_accuracy: 0.9827\n",
            "Epoch 18/30\n",
            "391/391 [==============================] - 1s 4ms/step - loss: 0.0382 - accuracy: 0.9890 - val_loss: 0.0806 - val_accuracy: 0.9813\n",
            "Epoch 19/30\n",
            "391/391 [==============================] - 1s 4ms/step - loss: 0.0378 - accuracy: 0.9887 - val_loss: 0.0855 - val_accuracy: 0.9817\n",
            "Epoch 20/30\n",
            "391/391 [==============================] - 1s 4ms/step - loss: 0.0360 - accuracy: 0.9894 - val_loss: 0.0891 - val_accuracy: 0.9806\n",
            "Epoch 21/30\n",
            "391/391 [==============================] - 2s 4ms/step - loss: 0.0368 - accuracy: 0.9892 - val_loss: 0.0869 - val_accuracy: 0.9824\n",
            "Epoch 22/30\n",
            "391/391 [==============================] - 1s 4ms/step - loss: 0.0339 - accuracy: 0.9896 - val_loss: 0.0810 - val_accuracy: 0.9821\n",
            "Epoch 23/30\n",
            "391/391 [==============================] - 1s 4ms/step - loss: 0.0324 - accuracy: 0.9901 - val_loss: 0.0901 - val_accuracy: 0.9819\n",
            "Epoch 24/30\n",
            "391/391 [==============================] - 2s 4ms/step - loss: 0.0305 - accuracy: 0.9907 - val_loss: 0.0898 - val_accuracy: 0.9816\n",
            "Epoch 25/30\n",
            "391/391 [==============================] - 1s 4ms/step - loss: 0.0307 - accuracy: 0.9907 - val_loss: 0.0891 - val_accuracy: 0.9812\n",
            "Epoch 26/30\n",
            "391/391 [==============================] - 1s 4ms/step - loss: 0.0310 - accuracy: 0.9904 - val_loss: 0.0903 - val_accuracy: 0.9824\n",
            "Epoch 27/30\n",
            "391/391 [==============================] - 1s 4ms/step - loss: 0.0273 - accuracy: 0.9911 - val_loss: 0.0931 - val_accuracy: 0.9827\n",
            "Epoch 28/30\n",
            "391/391 [==============================] - 1s 4ms/step - loss: 0.0277 - accuracy: 0.9917 - val_loss: 0.0934 - val_accuracy: 0.9836\n",
            "Epoch 29/30\n",
            "391/391 [==============================] - 2s 4ms/step - loss: 0.0259 - accuracy: 0.9924 - val_loss: 0.0948 - val_accuracy: 0.9822\n",
            "Epoch 30/30\n",
            "391/391 [==============================] - 2s 4ms/step - loss: 0.0249 - accuracy: 0.9923 - val_loss: 0.1009 - val_accuracy: 0.9811\n"
          ]
        }
      ]
    },
    {
      "cell_type": "code",
      "source": [
        "pinta_perdida_entrenamiento_validacion(historia4)"
      ],
      "metadata": {
        "id": "R9pI34Yr1gBO",
        "colab": {
          "base_uri": "https://localhost:8080/",
          "height": 295
        },
        "outputId": "0f0a0709-60c2-4ed9-9ff3-d6418acdf7ae"
      },
      "execution_count": null,
      "outputs": [
        {
          "output_type": "display_data",
          "data": {
            "text/plain": [
              "<Figure size 432x288 with 1 Axes>"
            ],
            "image/png": "[encoded data removed]"
          },
          "metadata": {
            "needs_background": "light"
          }
        }
      ]
    },
    {
      "cell_type": "code",
      "source": [
        "pinta_precision_entrenamiento_validacion(historia4)"
      ],
      "metadata": {
        "id": "EwEIEOKx1lQr",
        "colab": {
          "base_uri": "https://localhost:8080/",
          "height": 295
        },
        "outputId": "c1a9ecea-2b8a-478f-f87e-c62afecb7fe8"
      },
      "execution_count": null,
      "outputs": [
        {
          "output_type": "display_data",
          "data": {
            "text/plain": [
              "<Figure size 432x288 with 1 Axes>"
            ],
            "image/png": "[encoded data removed]"
          },
          "metadata": {
            "needs_background": "light"
          }
        }
      ]
    },
    {
      "cell_type": "markdown",
      "source": [
        "### Caso 5: Error de código de regularizador"
      ],
      "metadata": {
        "id": "e6rlKx2nCOgU"
      }
    },
    {
      "cell_type": "code",
      "source": [
        "network5 = crea_modelo(5)"
      ],
      "metadata": {
        "id": "SqGDm8VM1rwR",
        "colab": {
          "base_uri": "https://localhost:8080/",
          "height": 328
        },
        "outputId": "b661ba36-bc25-4e5d-912c-478bed7c69cd"
      },
      "execution_count": null,
      "outputs": [
        {
          "output_type": "stream",
          "name": "stdout",
          "text": [
            "ERROR. El valor debe estar entre 0 y 4.\n"
          ]
        },
        {
          "output_type": "error",
          "ename": "ValueError",
          "evalue": "ignored",
          "traceback": [
            "\u001b[0;31m---------------------------------------------------------------------------\u001b[0m",
            "\u001b[0;31mValueError\u001b[0m                                Traceback (most recent call last)",
            "\u001b[0;32m<ipython-input-41-23863d6b79b8>\u001b[0m in \u001b[0;36m<module>\u001b[0;34m\u001b[0m\n\u001b[0;32m----> 1\u001b[0;31m \u001b[0mnetwork5\u001b[0m \u001b[0;34m=\u001b[0m \u001b[0mcrea_modelo\u001b[0m\u001b[0;34m(\u001b[0m\u001b[0;36m5\u001b[0m\u001b[0;34m)\u001b[0m\u001b[0;34m\u001b[0m\u001b[0;34m\u001b[0m\u001b[0m\n\u001b[0m",
            "\u001b[0;32m<ipython-input-33-d620f86e519b>\u001b[0m in \u001b[0;36mcrea_modelo\u001b[0;34m(regularizador)\u001b[0m\n\u001b[1;32m     26\u001b[0m       \u001b[0mprint\u001b[0m\u001b[0;34m(\u001b[0m\u001b[0;34m\"ERROR. El valor debe estar entre 0 y 4.\"\u001b[0m\u001b[0;34m)\u001b[0m\u001b[0;34m\u001b[0m\u001b[0;34m\u001b[0m\u001b[0m\n\u001b[1;32m     27\u001b[0m   \u001b[0mmodel\u001b[0m\u001b[0;34m.\u001b[0m\u001b[0madd\u001b[0m\u001b[0;34m(\u001b[0m\u001b[0mlayers\u001b[0m\u001b[0;34m.\u001b[0m\u001b[0mDense\u001b[0m\u001b[0;34m(\u001b[0m\u001b[0;36m10\u001b[0m\u001b[0;34m,\u001b[0m\u001b[0mactivation\u001b[0m\u001b[0;34m=\u001b[0m\u001b[0;34m'softmax'\u001b[0m\u001b[0;34m)\u001b[0m\u001b[0;34m)\u001b[0m\u001b[0;34m\u001b[0m\u001b[0;34m\u001b[0m\u001b[0m\n\u001b[0;32m---> 28\u001b[0;31m   \u001b[0mmodel\u001b[0m\u001b[0;34m.\u001b[0m\u001b[0msummary\u001b[0m\u001b[0;34m(\u001b[0m\u001b[0;34m)\u001b[0m\u001b[0;34m\u001b[0m\u001b[0;34m\u001b[0m\u001b[0m\n\u001b[0m\u001b[1;32m     29\u001b[0m   \u001b[0;32mreturn\u001b[0m \u001b[0mmodel\u001b[0m\u001b[0;34m\u001b[0m\u001b[0;34m\u001b[0m\u001b[0m\n",
            "\u001b[0;32m/usr/local/lib/python3.7/dist-packages/keras/engine/training.py\u001b[0m in \u001b[0;36msummary\u001b[0;34m(self, line_length, positions, print_fn, expand_nested, show_trainable)\u001b[0m\n\u001b[1;32m   2868\u001b[0m     \u001b[0;32mif\u001b[0m \u001b[0;32mnot\u001b[0m \u001b[0mself\u001b[0m\u001b[0;34m.\u001b[0m\u001b[0mbuilt\u001b[0m\u001b[0;34m:\u001b[0m\u001b[0;34m\u001b[0m\u001b[0;34m\u001b[0m\u001b[0m\n\u001b[1;32m   2869\u001b[0m       raise ValueError(\n\u001b[0;32m-> 2870\u001b[0;31m           \u001b[0;34m'This model has not yet been built. '\u001b[0m\u001b[0;34m\u001b[0m\u001b[0;34m\u001b[0m\u001b[0m\n\u001b[0m\u001b[1;32m   2871\u001b[0m           \u001b[0;34m'Build the model first by calling `build()` or by calling '\u001b[0m\u001b[0;34m\u001b[0m\u001b[0;34m\u001b[0m\u001b[0m\n\u001b[1;32m   2872\u001b[0m           'the model on a batch of data.')\n",
            "\u001b[0;31mValueError\u001b[0m: This model has not yet been built. Build the model first by calling `build()` or by calling the model on a batch of data."
          ]
        }
      ]
    },
    {
      "cell_type": "markdown",
      "source": [
        "### CONCLUSIONES"
      ],
      "metadata": {
        "id": "IklUu29cCcVe"
      }
    },
    {
      "cell_type": "markdown",
      "source": [
        "Con los resultados obtenidos se concluye que:\n",
        "\n",
        "Con `l1` se aprecia que aunque las funciones de pérdida con los datos de entrenamiento y validación son muy similares la pérdida ofrecida por ambas sigue siendo bastante elevada, alrededor de 0.5, con respecto a los demas regularizadores.\n",
        "\n",
        "Las funciones de precisión con ambos conjuntos vuelven a ser bastante similares lo que nos hace indicar que este modelo está siendo capaz de generalizar bastante bien los datos de validación.\n",
        "\n",
        "Con `l2` se observa que las funciones de pérdida con los datos de entrenamiento y validación no son tan similares como con `l1` aunque los resultados obtenidos son mucho mejores que los obtenidos con `l1`. Sin embargo, otro factor a tener en cuenta sería la ligera divergencia que se observa entre ambas funciones, es decir, este modelo no está siendo capaz de generalizar tan bien como con `l1` .\n",
        "\n",
        "En las funciones de precisión se vuelve a observar unos mejores resultados que con `l1` y la divergencia entre ambas.\n",
        "\n",
        "Con `l1_l2` ocurre prácticamente lo mismo que con `l1`, es decir, las funciones de pérdida con los datos de entrenamiento y validación son muy similares pero la pérdida ofrecida por ambas es muy elevada.\n",
        "\n",
        "Las funciones de precisión vuelven a ser muy parecidas que las de `l1` obteniendo así una precisión alrededor del 95%.\n",
        "\n",
        "Con `dropout` con valor 0.05 se obtienen con los datos de entrenamiento las mejores pérdidas obtenidas en los 4 modelos. Sin embargo, con los datos de validación el modelo no es capaz de generalizar y produce sobreentrenamiento a partir de la epooch 5. A pesar del sobreentrenamiento, las pérdidas con los datos de validación sigue siendo muy bajas alrededor de 0.1.\n",
        "\n",
        "Todo esto comentado se vuelve a apreciar en la precisión con ambos conjuntos. Los resultados obtenidos con los datos de entrenamiento rondan \n",
        "el 100% en torno a la epoch 7 lo que produce el fenómeno de sobreentrenamiento y que la precisión con los datos de validación no supere el 95%.\n",
        "\n",
        "Por tanto se concluye que el uso de `dropout` con valor 0.05 proporciona el mejor rendimiento en este modelo a pesar del sobreentrenamiento generado. Si no se quisiese el uso de este modelo por lo ya comentado se plantearía el uso del regularizador `l2` aunque los resultados obtenidos con este no son tan precisos como con `dropout`. \n"
      ],
      "metadata": {
        "id": "cB_OYjjaChzN"
      }
    }
  ]
}